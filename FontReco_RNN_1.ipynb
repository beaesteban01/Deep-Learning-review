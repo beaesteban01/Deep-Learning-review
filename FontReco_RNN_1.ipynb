{
  "nbformat": 4,
  "nbformat_minor": 0,
  "metadata": {
    "accelerator": "GPU",
    "colab": {
      "name": "FontReco_RNN.ipynb",
      "provenance": [],
      "collapsed_sections": []
    },
    "kernelspec": {
      "display_name": "Python 3",
      "language": "python",
      "name": "python3"
    },
    "language_info": {
      "codemirror_mode": {
        "name": "ipython",
        "version": 3
      },
      "file_extension": ".py",
      "mimetype": "text/x-python",
      "name": "python",
      "nbconvert_exporter": "python",
      "pygments_lexer": "ipython3",
      "version": "3.6.12"
    }
  },
  "cells": [
    {
      "cell_type": "markdown",
      "metadata": {
        "id": "FsnDWHL0sYVC"
      },
      "source": [
        "# Font-type Recognition with RNNs using Keras"
      ]
    },
    {
      "cell_type": "code",
      "metadata": {
        "colab": {
          "base_uri": "https://localhost:8080/"
        },
        "id": "8ZfzBwlIEr7X",
        "outputId": "1f4e0cc2-745a-4435-c7eb-73d23516455a"
      },
      "source": [
        "import keras\n",
        "\n",
        "from keras.utils import to_categorical\n",
        "\n",
        "import numpy as np\n",
        "\n",
        "import matplotlib.pyplot as plt\n",
        "%matplotlib inline\n",
        "\n",
        "      \n",
        "print('Keras version: ',keras.__version__)"
      ],
      "execution_count": 1,
      "outputs": [
        {
          "output_type": "stream",
          "text": [
            "Keras version:  2.4.3\n"
          ],
          "name": "stdout"
        }
      ]
    },
    {
      "cell_type": "markdown",
      "metadata": {
        "id": "rEmv5qV9cVjD"
      },
      "source": [
        "## <font color= #00cc00>Next cells load the Font Type dataset:</font>\n"
      ]
    },
    {
      "cell_type": "code",
      "metadata": {
        "id": "sAId6_gMcTXN"
      },
      "source": [
        "\"\"\"\n",
        "Load and data\n",
        "\"\"\"\n",
        "\n",
        "import os\n",
        "from six.moves import urllib\n",
        "\n",
        "file_url = 'https://github.com/bloolizard/PlayWithTensorFlow/raw/master/data_with_labels.npz'\n",
        "file_name = 'data_with_labels.npz'\n",
        "\n",
        "if not os.path.exists(file_name):\n",
        "    urllib.request.urlretrieve(file_url, file_name)\n",
        "    \n",
        "    \n",
        "# Load data\n",
        "data = np.load('data_with_labels.npz')\n",
        "\n",
        "train = data['arr_0']/255.\n",
        "labels = data['arr_1']\n",
        "\n",
        "onehot= to_categorical(labels, num_classes=len(np.unique(labels)))"
      ],
      "execution_count": 2,
      "outputs": []
    },
    {
      "cell_type": "code",
      "metadata": {
        "colab": {
          "base_uri": "https://localhost:8080/"
        },
        "id": "d_OkB7Nc6sZP",
        "outputId": "51c0d821-1f74-4da4-bcce-85880178a062"
      },
      "source": [
        "# To see what is in the file: inspect data (arr_0 are images, arr_1 labels)\n",
        "\n",
        "for k in data.files:\n",
        "  print(k)\n",
        "\n",
        "print(type(data['arr_0']))\n",
        "print(type(data['arr_1']))\n"
      ],
      "execution_count": 3,
      "outputs": [
        {
          "output_type": "stream",
          "text": [
            "arr_0\n",
            "arr_1\n",
            "<class 'numpy.ndarray'>\n",
            "<class 'numpy.ndarray'>\n"
          ],
          "name": "stdout"
        }
      ]
    },
    {
      "cell_type": "markdown",
      "metadata": {
        "id": "8QqY9fOdcpq1"
      },
      "source": [
        "## Preparing Train/Test Data :\n",
        "- ### Random Permutation! + split data into training / validation"
      ]
    },
    {
      "cell_type": "code",
      "metadata": {
        "id": "qAf7zER3clns"
      },
      "source": [
        "# Split data into training (90%) and validation (10%)\n",
        "np.random.seed(100)\n",
        "\n",
        "indices = np.random.permutation(train.shape[0])\n",
        "\n",
        "valid_cnt = int(train.shape[0] * 0.1)\n",
        "\n",
        "test_idx, training_idx = indices[:valid_cnt],\\\n",
        "                         indices[valid_cnt:]\n",
        "  \n",
        "test, train = train[test_idx,:],\\\n",
        "              train[training_idx,:]\n",
        "  \n",
        "onehot_test, onehot_train = onehot[test_idx,:],\\\n",
        "                        onehot[training_idx,:]\n"
      ],
      "execution_count": 5,
      "outputs": []
    },
    {
      "cell_type": "code",
      "metadata": {
        "colab": {
          "base_uri": "https://localhost:8080/"
        },
        "id": "eTJWtFa_bfk7",
        "outputId": "e516ef76-925a-41cb-b01d-897ddba0102f"
      },
      "source": [
        "train.shape"
      ],
      "execution_count": 6,
      "outputs": [
        {
          "output_type": "execute_result",
          "data": {
            "text/plain": [
              "(2511, 36, 36)"
            ]
          },
          "metadata": {
            "tags": []
          },
          "execution_count": 6
        }
      ]
    },
    {
      "cell_type": "code",
      "metadata": {
        "colab": {
          "base_uri": "https://localhost:8080/",
          "height": 69
        },
        "id": "VaFwPdeJjYsp",
        "outputId": "ea709297-501f-4436-9220-6a5d887f02f5"
      },
      "source": [
        "'''# Only for basic neural network\n",
        "train=train.reshape([-1,train.shape[1]*train.shape[2]])\n",
        "test=test.reshape([-1,test.shape[1]*test.shape[2]])\n",
        "\n",
        "print('Train shape=', train.shape , '\\nTest shape=', test.shape)\n",
        "'''"
      ],
      "execution_count": 7,
      "outputs": [
        {
          "output_type": "execute_result",
          "data": {
            "application/vnd.google.colaboratory.intrinsic+json": {
              "type": "string"
            },
            "text/plain": [
              "\"# Only for basic neural network\\ntrain=train.reshape([-1,train.shape[1]*train.shape[2]])\\ntest=test.reshape([-1,test.shape[1]*test.shape[2]])\\n\\nprint('Train shape=', train.shape , '\\nTest shape=', test.shape)\\n\""
            ]
          },
          "metadata": {
            "tags": []
          },
          "execution_count": 7
        }
      ]
    },
    {
      "cell_type": "code",
      "metadata": {
        "colab": {
          "base_uri": "https://localhost:8080/",
          "height": 69
        },
        "id": "0zQ_-EtmcNWF",
        "outputId": "02a65e37-bbcd-4d36-d523-33c490abe4eb"
      },
      "source": [
        "'''\n",
        "train=train.reshape(train.shape[0],train.shape[1], 1)\n",
        "test=test.reshape(test.shape[0],test.shape[1], 1)\n",
        "print('Train shape=', train.shape , '\\nTest shape=', test.shape)\n",
        "'''"
      ],
      "execution_count": 8,
      "outputs": [
        {
          "output_type": "execute_result",
          "data": {
            "application/vnd.google.colaboratory.intrinsic+json": {
              "type": "string"
            },
            "text/plain": [
              "\"\\ntrain=train.reshape(train.shape[0],train.shape[1], 1)\\ntest=test.reshape(test.shape[0],test.shape[1], 1)\\nprint('Train shape=', train.shape , '\\nTest shape=', test.shape)\\n\""
            ]
          },
          "metadata": {
            "tags": []
          },
          "execution_count": 8
        }
      ]
    },
    {
      "cell_type": "code",
      "metadata": {
        "colab": {
          "base_uri": "https://localhost:8080/",
          "height": 86
        },
        "id": "kGQTLlOHmaps",
        "outputId": "8dfedf30-a0dc-4091-f33c-94420ecc64ff"
      },
      "source": [
        "# For CNNs\n",
        "'''\n",
        "train=train.reshape([-1,train.shape[1],train.shape[2],1])\n",
        "test=test.reshape([-1,test.shape[1],test.shape[2],1])\n",
        "\n",
        "#vgg\n",
        "num_classes = onehot_test.shape[1]\n",
        "\n",
        "print('Train shape=', train.shape , '\\nTest shape=', test.shape, '\\nNum clasess =', num_classes)\n",
        "'''"
      ],
      "execution_count": 9,
      "outputs": [
        {
          "output_type": "execute_result",
          "data": {
            "application/vnd.google.colaboratory.intrinsic+json": {
              "type": "string"
            },
            "text/plain": [
              "\"\\ntrain=train.reshape([-1,train.shape[1],train.shape[2],1])\\ntest=test.reshape([-1,test.shape[1],test.shape[2],1])\\n\\n#vgg\\nnum_classes = onehot_test.shape[1]\\n\\nprint('Train shape=', train.shape , '\\nTest shape=', test.shape, '\\nNum clasess =', num_classes)\\n\""
            ]
          },
          "metadata": {
            "tags": []
          },
          "execution_count": 9
        }
      ]
    },
    {
      "cell_type": "markdown",
      "metadata": {
        "id": "hfmJQuxXdtLZ"
      },
      "source": [
        "## 1.   **Define your ConNet model**:"
      ]
    },
    {
      "cell_type": "code",
      "metadata": {
        "id": "v0xt3myunsoJ"
      },
      "source": [
        "from keras.models import Sequential\n",
        "\n",
        "from keras.layers import Dropout, Dense, Flatten, Input, LSTM, SimpleRNN\n"
      ],
      "execution_count": 10,
      "outputs": []
    },
    {
      "cell_type": "code",
      "metadata": {
        "id": "GeqShcmtiivI"
      },
      "source": [
        "# Definition of the input shape and number of classess\n",
        "nb_classes = onehot_test.shape[1]\n",
        "img_rows, img_cols = train.shape[1], train.shape[2]\n",
        "#train shape = 36x36\n"
      ],
      "execution_count": 12,
      "outputs": []
    },
    {
      "cell_type": "markdown",
      "metadata": {
        "id": "uEAd4aWCBiq_"
      },
      "source": [
        "#### Simple RNN- 1 layer"
      ]
    },
    {
      "cell_type": "code",
      "metadata": {
        "id": "5-XxJB6U_qAy"
      },
      "source": [
        "\n",
        "# define the RNN model\n",
        "model = Sequential()\n",
        "model.add(SimpleRNN(50,input_shape=(img_rows, img_cols)))\n",
        "model.add(Dense(nb_classes, activation='softmax'))\n",
        "\n",
        "\n",
        "\n",
        "#model.add(LSTM(256, input_shape=(100, train.shape[2])))\n"
      ],
      "execution_count": 13,
      "outputs": []
    },
    {
      "cell_type": "markdown",
      "metadata": {
        "id": "4BBqL5WplH1z"
      },
      "source": [
        "#### RNN- 3 layers"
      ]
    },
    {
      "cell_type": "code",
      "metadata": {
        "colab": {
          "base_uri": "https://localhost:8080/",
          "height": 86
        },
        "id": "CnzIea1KkIEf",
        "outputId": "78fdf7d4-3532-4a18-f6bf-034d5b99d435"
      },
      "source": [
        "'''\n",
        "model = Sequential()\n",
        "\n",
        "model.add(SimpleRNN(32,input_shape=(img_rows, img_cols), return_sequences=True))\n",
        "model.add(SimpleRNN(16, return_sequences=True))\n",
        "model.add(SimpleRNN(8))\n",
        "model.add(Dense(nb_classes, activation='softmax'))\n",
        "'''"
      ],
      "execution_count": 14,
      "outputs": [
        {
          "output_type": "execute_result",
          "data": {
            "application/vnd.google.colaboratory.intrinsic+json": {
              "type": "string"
            },
            "text/plain": [
              "\"\\nmodel = Sequential()\\n\\nmodel.add(SimpleRNN(32,input_shape=(img_rows, img_cols), return_sequences=True))\\nmodel.add(SimpleRNN(16, return_sequences=True))\\nmodel.add(SimpleRNN(8))\\nmodel.add(Dense(nb_classes, activation='softmax'))\\n\""
            ]
          },
          "metadata": {
            "tags": []
          },
          "execution_count": 14
        }
      ]
    },
    {
      "cell_type": "markdown",
      "metadata": {
        "id": "oLOE4Sc1jsGM"
      },
      "source": [
        "#### LSTM "
      ]
    },
    {
      "cell_type": "code",
      "metadata": {
        "id": "TjnUs6PWjwoU"
      },
      "source": [
        "\n",
        "model = Sequential()\n",
        "model.add(LSTM(32, input_shape=(img_rows, img_cols), return_sequences=True))\n",
        "model.add(LSTM(32, return_sequences=True))\n",
        "model.add(LSTM(32, return_sequences=True))\n",
        "model.add(LSTM(32))\n",
        "model.add(Dropout(0.2))\n",
        "model.add(Dense(onehot_test.shape[1], activation='softmax'))\n"
      ],
      "execution_count": 15,
      "outputs": []
    },
    {
      "cell_type": "markdown",
      "metadata": {
        "id": "aoQoXnpMeZxu"
      },
      "source": [
        "## 2.   **Compile your model**. Specify loss functions and optimizers"
      ]
    },
    {
      "cell_type": "code",
      "metadata": {
        "id": "wDba0-nieY3k"
      },
      "source": [
        "\n",
        "model.compile(loss='categorical_crossentropy',\n",
        "              optimizer='adam',\n",
        "              metrics=['accuracy'])\n"
      ],
      "execution_count": 16,
      "outputs": []
    },
    {
      "cell_type": "code",
      "metadata": {
        "id": "OvxG1cgfevRz",
        "colab": {
          "base_uri": "https://localhost:8080/"
        },
        "outputId": "76b2365f-a75d-441d-f112-ca1953456da9"
      },
      "source": [
        "model.summary() #dense layer la que mas param tiene entrenados\n"
      ],
      "execution_count": 17,
      "outputs": [
        {
          "output_type": "stream",
          "text": [
            "Model: \"sequential_1\"\n",
            "_________________________________________________________________\n",
            "Layer (type)                 Output Shape              Param #   \n",
            "=================================================================\n",
            "lstm (LSTM)                  (None, 36, 32)            8832      \n",
            "_________________________________________________________________\n",
            "lstm_1 (LSTM)                (None, 36, 32)            8320      \n",
            "_________________________________________________________________\n",
            "lstm_2 (LSTM)                (None, 36, 32)            8320      \n",
            "_________________________________________________________________\n",
            "lstm_3 (LSTM)                (None, 32)                8320      \n",
            "_________________________________________________________________\n",
            "dropout (Dropout)            (None, 32)                0         \n",
            "_________________________________________________________________\n",
            "dense_1 (Dense)              (None, 5)                 165       \n",
            "=================================================================\n",
            "Total params: 33,957\n",
            "Trainable params: 33,957\n",
            "Non-trainable params: 0\n",
            "_________________________________________________________________\n"
          ],
          "name": "stdout"
        }
      ]
    },
    {
      "cell_type": "markdown",
      "metadata": {
        "id": "3yylapSuewSk"
      },
      "source": [
        "# 3.   **Fit your model**. Train the model using data."
      ]
    },
    {
      "cell_type": "code",
      "metadata": {
        "id": "--hQW5Ode4H-",
        "colab": {
          "base_uri": "https://localhost:8080/"
        },
        "outputId": "71642a6b-ed33-443d-dbad-9adcd83c0b5f"
      },
      "source": [
        "# history to analyze training history evolution\n",
        "\n",
        "# validation_data allows to see evaluation on test while training\n",
        "history=model.fit(train, onehot_train,\n",
        "         epochs=50,\n",
        "         batch_size=128,\n",
        "         validation_data=(test, onehot_test),\n",
        "         verbose=1)"
      ],
      "execution_count": 18,
      "outputs": [
        {
          "output_type": "stream",
          "text": [
            "Epoch 1/50\n",
            "20/20 [==============================] - 8s 89ms/step - loss: 1.5831 - accuracy: 0.2337 - val_loss: 1.4605 - val_accuracy: 0.3297\n",
            "Epoch 2/50\n",
            "20/20 [==============================] - 0s 15ms/step - loss: 1.3042 - accuracy: 0.4503 - val_loss: 1.0412 - val_accuracy: 0.4839\n",
            "Epoch 3/50\n",
            "20/20 [==============================] - 0s 15ms/step - loss: 0.9346 - accuracy: 0.5757 - val_loss: 0.8444 - val_accuracy: 0.6093\n",
            "Epoch 4/50\n",
            "20/20 [==============================] - 0s 15ms/step - loss: 0.7918 - accuracy: 0.6373 - val_loss: 0.7204 - val_accuracy: 0.7204\n",
            "Epoch 5/50\n",
            "20/20 [==============================] - 0s 15ms/step - loss: 0.6866 - accuracy: 0.7002 - val_loss: 0.5986 - val_accuracy: 0.7455\n",
            "Epoch 6/50\n",
            "20/20 [==============================] - 0s 16ms/step - loss: 0.5618 - accuracy: 0.7595 - val_loss: 0.5575 - val_accuracy: 0.7706\n",
            "Epoch 7/50\n",
            "20/20 [==============================] - 0s 15ms/step - loss: 0.5078 - accuracy: 0.7832 - val_loss: 0.4923 - val_accuracy: 0.7885\n",
            "Epoch 8/50\n",
            "20/20 [==============================] - 0s 15ms/step - loss: 0.4742 - accuracy: 0.8130 - val_loss: 0.5458 - val_accuracy: 0.7670\n",
            "Epoch 9/50\n",
            "20/20 [==============================] - 0s 15ms/step - loss: 0.4817 - accuracy: 0.7942 - val_loss: 0.4851 - val_accuracy: 0.7957\n",
            "Epoch 10/50\n",
            "20/20 [==============================] - 0s 14ms/step - loss: 0.3987 - accuracy: 0.8521 - val_loss: 0.4162 - val_accuracy: 0.8208\n",
            "Epoch 11/50\n",
            "20/20 [==============================] - 0s 15ms/step - loss: 0.3570 - accuracy: 0.8645 - val_loss: 0.4213 - val_accuracy: 0.8280\n",
            "Epoch 12/50\n",
            "20/20 [==============================] - 0s 15ms/step - loss: 0.3596 - accuracy: 0.8637 - val_loss: 0.3685 - val_accuracy: 0.8530\n",
            "Epoch 13/50\n",
            "20/20 [==============================] - 0s 15ms/step - loss: 0.3247 - accuracy: 0.8879 - val_loss: 0.4274 - val_accuracy: 0.8208\n",
            "Epoch 14/50\n",
            "20/20 [==============================] - 0s 14ms/step - loss: 0.3213 - accuracy: 0.8705 - val_loss: 0.3564 - val_accuracy: 0.8674\n",
            "Epoch 15/50\n",
            "20/20 [==============================] - 0s 15ms/step - loss: 0.2867 - accuracy: 0.8920 - val_loss: 0.3063 - val_accuracy: 0.8817\n",
            "Epoch 16/50\n",
            "20/20 [==============================] - 0s 15ms/step - loss: 0.2529 - accuracy: 0.9104 - val_loss: 0.3129 - val_accuracy: 0.8674\n",
            "Epoch 17/50\n",
            "20/20 [==============================] - 0s 14ms/step - loss: 0.2619 - accuracy: 0.9021 - val_loss: 0.2832 - val_accuracy: 0.8817\n",
            "Epoch 18/50\n",
            "20/20 [==============================] - 0s 14ms/step - loss: 0.2551 - accuracy: 0.9067 - val_loss: 0.2270 - val_accuracy: 0.8996\n",
            "Epoch 19/50\n",
            "20/20 [==============================] - 0s 14ms/step - loss: 0.2314 - accuracy: 0.9145 - val_loss: 0.2461 - val_accuracy: 0.8853\n",
            "Epoch 20/50\n",
            "20/20 [==============================] - 0s 20ms/step - loss: 0.2197 - accuracy: 0.9176 - val_loss: 0.2613 - val_accuracy: 0.8746\n",
            "Epoch 21/50\n",
            "20/20 [==============================] - 0s 15ms/step - loss: 0.2256 - accuracy: 0.9174 - val_loss: 0.2377 - val_accuracy: 0.9104\n",
            "Epoch 22/50\n",
            "20/20 [==============================] - 0s 15ms/step - loss: 0.1925 - accuracy: 0.9392 - val_loss: 0.2131 - val_accuracy: 0.9140\n",
            "Epoch 23/50\n",
            "20/20 [==============================] - 0s 15ms/step - loss: 0.1882 - accuracy: 0.9360 - val_loss: 0.2063 - val_accuracy: 0.9283\n",
            "Epoch 24/50\n",
            "20/20 [==============================] - 0s 14ms/step - loss: 0.1955 - accuracy: 0.9266 - val_loss: 0.1757 - val_accuracy: 0.9391\n",
            "Epoch 25/50\n",
            "20/20 [==============================] - 0s 14ms/step - loss: 0.1848 - accuracy: 0.9296 - val_loss: 0.1777 - val_accuracy: 0.9283\n",
            "Epoch 26/50\n",
            "20/20 [==============================] - 0s 15ms/step - loss: 0.1558 - accuracy: 0.9448 - val_loss: 0.1687 - val_accuracy: 0.9283\n",
            "Epoch 27/50\n",
            "20/20 [==============================] - 0s 14ms/step - loss: 0.1485 - accuracy: 0.9436 - val_loss: 0.1528 - val_accuracy: 0.9498\n",
            "Epoch 28/50\n",
            "20/20 [==============================] - 0s 14ms/step - loss: 0.2099 - accuracy: 0.9360 - val_loss: 0.2540 - val_accuracy: 0.9104\n",
            "Epoch 29/50\n",
            "20/20 [==============================] - 0s 14ms/step - loss: 0.2517 - accuracy: 0.9034 - val_loss: 0.1668 - val_accuracy: 0.9498\n",
            "Epoch 30/50\n",
            "20/20 [==============================] - 0s 15ms/step - loss: 0.1576 - accuracy: 0.9500 - val_loss: 0.1355 - val_accuracy: 0.9462\n",
            "Epoch 31/50\n",
            "20/20 [==============================] - 0s 15ms/step - loss: 0.1330 - accuracy: 0.9499 - val_loss: 0.1233 - val_accuracy: 0.9677\n",
            "Epoch 32/50\n",
            "20/20 [==============================] - 0s 14ms/step - loss: 0.1307 - accuracy: 0.9522 - val_loss: 0.1134 - val_accuracy: 0.9570\n",
            "Epoch 33/50\n",
            "20/20 [==============================] - 0s 15ms/step - loss: 0.1234 - accuracy: 0.9613 - val_loss: 0.1012 - val_accuracy: 0.9642\n",
            "Epoch 34/50\n",
            "20/20 [==============================] - 0s 14ms/step - loss: 0.1011 - accuracy: 0.9701 - val_loss: 0.1208 - val_accuracy: 0.9606\n",
            "Epoch 35/50\n",
            "20/20 [==============================] - 0s 14ms/step - loss: 0.1120 - accuracy: 0.9626 - val_loss: 0.0942 - val_accuracy: 0.9642\n",
            "Epoch 36/50\n",
            "20/20 [==============================] - 0s 14ms/step - loss: 0.1246 - accuracy: 0.9578 - val_loss: 0.1020 - val_accuracy: 0.9677\n",
            "Epoch 37/50\n",
            "20/20 [==============================] - 0s 14ms/step - loss: 0.1234 - accuracy: 0.9579 - val_loss: 0.0893 - val_accuracy: 0.9713\n",
            "Epoch 38/50\n",
            "20/20 [==============================] - 0s 14ms/step - loss: 0.0873 - accuracy: 0.9758 - val_loss: 0.1232 - val_accuracy: 0.9534\n",
            "Epoch 39/50\n",
            "20/20 [==============================] - 0s 14ms/step - loss: 0.1114 - accuracy: 0.9612 - val_loss: 0.0987 - val_accuracy: 0.9642\n",
            "Epoch 40/50\n",
            "20/20 [==============================] - 0s 15ms/step - loss: 0.1144 - accuracy: 0.9607 - val_loss: 0.1757 - val_accuracy: 0.9427\n",
            "Epoch 41/50\n",
            "20/20 [==============================] - 0s 15ms/step - loss: 0.1475 - accuracy: 0.9583 - val_loss: 0.1103 - val_accuracy: 0.9642\n",
            "Epoch 42/50\n",
            "20/20 [==============================] - 0s 14ms/step - loss: 0.1363 - accuracy: 0.9552 - val_loss: 0.1322 - val_accuracy: 0.9534\n",
            "Epoch 43/50\n",
            "20/20 [==============================] - 0s 14ms/step - loss: 0.0966 - accuracy: 0.9600 - val_loss: 0.1258 - val_accuracy: 0.9534\n",
            "Epoch 44/50\n",
            "20/20 [==============================] - 0s 15ms/step - loss: 0.0832 - accuracy: 0.9685 - val_loss: 0.0819 - val_accuracy: 0.9713\n",
            "Epoch 45/50\n",
            "20/20 [==============================] - 0s 15ms/step - loss: 0.0807 - accuracy: 0.9729 - val_loss: 0.0753 - val_accuracy: 0.9821\n",
            "Epoch 46/50\n",
            "20/20 [==============================] - 0s 14ms/step - loss: 0.0793 - accuracy: 0.9699 - val_loss: 0.0989 - val_accuracy: 0.9677\n",
            "Epoch 47/50\n",
            "20/20 [==============================] - 0s 16ms/step - loss: 0.0662 - accuracy: 0.9729 - val_loss: 0.0700 - val_accuracy: 0.9749\n",
            "Epoch 48/50\n",
            "20/20 [==============================] - 0s 14ms/step - loss: 0.0574 - accuracy: 0.9782 - val_loss: 0.0688 - val_accuracy: 0.9713\n",
            "Epoch 49/50\n",
            "20/20 [==============================] - 0s 15ms/step - loss: 0.0667 - accuracy: 0.9784 - val_loss: 0.0719 - val_accuracy: 0.9713\n",
            "Epoch 50/50\n",
            "20/20 [==============================] - 0s 16ms/step - loss: 0.0630 - accuracy: 0.9795 - val_loss: 0.0625 - val_accuracy: 0.9785\n"
          ],
          "name": "stdout"
        }
      ]
    },
    {
      "cell_type": "markdown",
      "metadata": {
        "id": "dBGWDJ06fDNd"
      },
      "source": [
        "## 4.   **Make predictions**. Use the model to generate predictions on new data."
      ]
    },
    {
      "cell_type": "code",
      "metadata": {
        "id": "Q7CZPGT8fE9e",
        "colab": {
          "base_uri": "https://localhost:8080/"
        },
        "outputId": "c29a517c-be5a-4ae1-d1a7-91b39c89e6a8"
      },
      "source": [
        "# Check accuracy on train set\n",
        "\n",
        "loss_train, accuracy_train = model.evaluate(train, onehot_train, batch_size=128)\n",
        "\n",
        "\n",
        "print('\\nTraining Accuracy=', accuracy_train)\n",
        "\n",
        "# Check accuracy on test set\n",
        "\n",
        "loss, accuracy = model.evaluate(test, onehot_test, batch_size=128)\n",
        "\n",
        "\n",
        "print('\\nTest Accuracy=', accuracy)"
      ],
      "execution_count": 26,
      "outputs": [
        {
          "output_type": "stream",
          "text": [
            "20/20 [==============================] - 0s 7ms/step - loss: 0.0681 - accuracy: 0.9713\n",
            "\n",
            "Training Accuracy= 0.9713261723518372\n",
            "3/3 [==============================] - 0s 8ms/step - loss: 0.0625 - accuracy: 0.9785\n",
            "\n",
            "Test Accuracy= 0.9784946441650391\n"
          ],
          "name": "stdout"
        }
      ]
    },
    {
      "cell_type": "code",
      "metadata": {
        "id": "2oQdaeiJf0pd",
        "colab": {
          "base_uri": "https://localhost:8080/",
          "height": 313
        },
        "outputId": "b47b419c-946a-4532-e46c-b2b2d22e138f"
      },
      "source": [
        "print('Train Accuracy: ',np.round(history.history['accuracy'][-1],2))\n",
        "print('Test Accuracy: ',np.round(history.history['val_accuracy'][-1],2))\n",
        "\n",
        "# Plot the accuracy curves\n",
        "\n",
        "plt.plot(history.history['accuracy'])\n",
        "plt.plot(history.history['val_accuracy'])\n",
        "plt.xlabel('Epochs')\n",
        "plt.ylabel('Accuracy')\n",
        "plt.legend(['train acc', 'test acc'])\n",
        "plt.grid()\n"
      ],
      "execution_count": 27,
      "outputs": [
        {
          "output_type": "stream",
          "text": [
            "Train Accuracy:  0.98\n",
            "Test Accuracy:  0.98\n"
          ],
          "name": "stdout"
        },
        {
          "output_type": "display_data",
          "data": {
            "image/png": "[encoded data removed]",
            "text/plain": [
              "<Figure size 432x288 with 1 Axes>"
            ]
          },
          "metadata": {
            "tags": [],
            "needs_background": "light"
          }
        }
      ]
    },
    {
      "cell_type": "code",
      "metadata": {
        "id": "c1d-gaU4uyPH",
        "colab": {
          "base_uri": "https://localhost:8080/",
          "height": 280
        },
        "outputId": "f7cfc959-21a5-4e61-849e-fad005e146c6"
      },
      "source": [
        "# Plot the loss curves\n",
        "\n",
        "plt.plot(history.history['loss'])\n",
        "plt.plot(history.history['val_loss'])\n",
        "plt.xlabel('Epochs')\n",
        "plt.ylabel('Loss')\n",
        "plt.legend(['train loss', 'test loss'], loc='upper center')\n",
        "plt.grid()"
      ],
      "execution_count": 28,
      "outputs": [
        {
          "output_type": "display_data",
          "data": {
            "image/png": "[encoded data removed]",
            "text/plain": [
              "<Figure size 432x288 with 1 Axes>"
            ]
          },
          "metadata": {
            "tags": [],
            "needs_background": "light"
          }
        }
      ]
    },
    {
      "cell_type": "code",
      "metadata": {
        "id": "bn8_mShblIO-",
        "colab": {
          "base_uri": "https://localhost:8080/",
          "height": 314
        },
        "outputId": "26f58717-812c-4b22-9580-66799ec8aaf1"
      },
      "source": [
        "print('Train Accuracy: ',np.round(history.history['accuracy'][-1],2))\n",
        "print('Test Accuracy: ',np.round(history.history['val_accuracy'][-1],2))\n",
        "\n",
        "# Plot the accuracy curves\n",
        "plt.plot(history.history['accuracy'])\n",
        "plt.plot(history.history['val_accuracy'])\n",
        "\n",
        "\n",
        "# Plot the loss curves\n",
        "plt.plot(history.history['loss'])\n",
        "plt.plot(history.history['val_loss'])\n",
        "\n",
        "plt.xlabel('Epochs')\n",
        "plt.ylabel('Accuracy / Loss')\n",
        "plt.legend(['train acc', 'test acc','train loss', 'test loss'])\n",
        "plt.grid()"
      ],
      "execution_count": 29,
      "outputs": [
        {
          "output_type": "stream",
          "text": [
            "Train Accuracy:  0.98\n",
            "Test Accuracy:  0.98\n"
          ],
          "name": "stdout"
        },
        {
          "output_type": "display_data",
          "data": {
            "image/png": "[encoded data removed]",
            "text/plain": [
              "<Figure size 432x288 with 1 Axes>"
            ]
          },
          "metadata": {
            "tags": [],
            "needs_background": "light"
          }
        }
      ]
    },
    {
      "cell_type": "markdown",
      "metadata": {
        "id": "ucT89yZ_f-ip"
      },
      "source": [
        "# Get predictions / probabilities ..."
      ]
    },
    {
      "cell_type": "code",
      "metadata": {
        "id": "Z48r7BWTf9pA",
        "colab": {
          "base_uri": "https://localhost:8080/"
        },
        "outputId": "3c7ace6e-7564-43ee-8804-ce41301f3893"
      },
      "source": [
        "pred_probabilities= model.predict(test)\n",
        "\n",
        "print('First Five Probs.:\\n',pred_probabilities[0:5])\n",
        "\n",
        "print('\\n\\nFirst Five Classes:\\n',onehot_test[0:5])"
      ],
      "execution_count": 24,
      "outputs": [
        {
          "output_type": "stream",
          "text": [
            "First Five Probs.:\n",
            " [[4.8857339e-05 1.3065853e-03 8.8619097e-05 3.8504717e-04 9.9817085e-01]\n",
            " [6.6239045e-05 9.9851674e-01 7.0254051e-04 9.1626069e-05 6.2286470e-04]\n",
            " [6.1658495e-05 1.2367327e-03 9.3670467e-05 5.2710826e-04 9.9808085e-01]\n",
            " [4.8654866e-03 9.6377428e-04 9.9408346e-01 2.2475357e-05 6.4847940e-05]\n",
            " [8.5544038e-05 2.2178050e-04 1.2806058e-04 9.9933147e-01 2.3309900e-04]]\n",
            "\n",
            "\n",
            "First Five Classes:\n",
            " [[0. 0. 0. 0. 1.]\n",
            " [0. 1. 0. 0. 0.]\n",
            " [0. 0. 0. 0. 1.]\n",
            " [0. 0. 1. 0. 0.]\n",
            " [0. 0. 0. 1. 0.]]\n"
          ],
          "name": "stdout"
        }
      ]
    },
    {
      "cell_type": "markdown",
      "metadata": {
        "id": "r4jgiEniXBz1"
      },
      "source": [
        "## Confusion Matrix"
      ]
    },
    {
      "cell_type": "code",
      "metadata": {
        "id": "onbbqWnfZYqO",
        "colab": {
          "base_uri": "https://localhost:8080/",
          "height": 398
        },
        "outputId": "a7648b8d-a663-42f1-9f9c-f46a6bf0ff16"
      },
      "source": [
        "import seaborn as sns\n",
        "\n",
        "from sklearn.metrics import confusion_matrix as cm\n",
        "\n",
        "ConfMatrix=cm(np.argmax(onehot_test,1), np.argmax(pred_probabilities,1))\n",
        "\n",
        "print('Confusion Matrix:\\n',ConfMatrix)\n",
        "\n",
        "ax= plt.subplot()\n",
        "sns.heatmap(ConfMatrix, annot=True, ax = ax, cmap=\"YlGnBu\"); #annot=True to annotate cells\n",
        "\n",
        "# labels, title and ticks\n",
        "ax.set_xlabel('Predicted labels')\n",
        "ax.set_ylabel('True labels')\n",
        "ax.set_title('Confusion Matrix')\n",
        "\n",
        "ax.xaxis.set_ticklabels(['FT_1', 'FT_2','FT_3','FT_4','FT_5'])\n",
        "ax.yaxis.set_ticklabels(['FT_1', 'FT_2','FT_3','FT_4','FT_5']);"
      ],
      "execution_count": 25,
      "outputs": [
        {
          "output_type": "stream",
          "text": [
            "Confusion Matrix:\n",
            " [[58  0  3  0  0]\n",
            " [ 0 69  2  0  0]\n",
            " [ 0  0 48  0  0]\n",
            " [ 0  0  0 43  0]\n",
            " [ 0  1  0  0 55]]\n"
          ],
          "name": "stdout"
        },
        {
          "output_type": "display_data",
          "data": {
            "image/png": "[encoded data removed]",
            "text/plain": [
              "<Figure size 432x288 with 2 Axes>"
            ]
          },
          "metadata": {
            "tags": [],
            "needs_background": "light"
          }
        }
      ]
    }
  ]
}